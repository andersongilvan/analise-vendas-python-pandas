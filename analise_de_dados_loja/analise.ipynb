{
 "cells": [
  {
   "cell_type": "code",
   "execution_count": 94,
   "metadata": {},
   "outputs": [
    {
     "name": "stdout",
     "output_type": "stream",
     "text": [
      "faturamento total: 55895\n"
     ]
    }
   ],
   "source": [
    "import pandas as pd\n",
    "\n",
    "\n",
    "tabela = pd.read_excel(\"vendas.xlsx\")\n",
    "\n",
    "#calcular faturamento\n",
    "faturamento = tabela[\"Valor Final\"].sum()\n",
    "\n",
    "print(f'faturamento total: {faturamento}')\n",
    "\n"
   ]
  },
  {
   "cell_type": "code",
   "execution_count": null,
   "metadata": {},
   "outputs": [],
   "source": [
    "# faturamento por lofa\n",
    "faturamento_por_loja = tabela[[\"ID Loja\", \"Valor Final\"]].groupby(\"ID Loja\").sum()\n",
    "ordem_faturamento = faturamento_por_loja[['Valor Final']].sort_values(by='Valor Final', ascending=False)\n",
    "display(ordem_faturamento)"
   ]
  },
  {
   "cell_type": "code",
   "execution_count": null,
   "metadata": {},
   "outputs": [],
   "source": [
    "#loja, produto e faturamento\n",
    "loja_produto_valor_final = tabela[[\"ID Loja\", \"Produto\", \"Valor Final\"]].groupby([\"ID Loja\", \"Produto\"]).sum()\n",
    "ordem_por_vendas = loja_produto_valor_final[['Valor Final']].sort_values(by='Valor Final', ascending=False)\n",
    "\n",
    "display(ordem_por_vendas)"
   ]
  },
  {
   "cell_type": "code",
   "execution_count": null,
   "metadata": {},
   "outputs": [],
   "source": []
  },
  {
   "cell_type": "code",
   "execution_count": null,
   "metadata": {},
   "outputs": [],
   "source": []
  }
 ],
 "metadata": {
  "kernelspec": {
   "display_name": "Python 3",
   "language": "python",
   "name": "python3"
  },
  "language_info": {
   "codemirror_mode": {
    "name": "ipython",
    "version": 3
   },
   "file_extension": ".py",
   "mimetype": "text/x-python",
   "name": "python",
   "nbconvert_exporter": "python",
   "pygments_lexer": "ipython3",
   "version": "3.11.4"
  }
 },
 "nbformat": 4,
 "nbformat_minor": 2
}
